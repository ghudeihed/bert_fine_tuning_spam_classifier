{
 "cells": [
  {
   "cell_type": "code",
   "execution_count": 2,
   "metadata": {},
   "outputs": [
    {
     "name": "stdout",
     "output_type": "stream",
     "text": [
      "Requirement already satisfied: transformers in /Users/ghudeihed/anaconda3/envs/XCS330/lib/python3.9/site-packages (4.31.0)\n",
      "Requirement already satisfied: filelock in /Users/ghudeihed/anaconda3/envs/XCS330/lib/python3.9/site-packages (from transformers) (3.12.2)\n",
      "Requirement already satisfied: huggingface-hub<1.0,>=0.14.1 in /Users/ghudeihed/anaconda3/envs/XCS330/lib/python3.9/site-packages (from transformers) (0.16.4)\n",
      "Requirement already satisfied: numpy>=1.17 in /Users/ghudeihed/anaconda3/envs/XCS330/lib/python3.9/site-packages (from transformers) (1.25.1)\n",
      "Requirement already satisfied: packaging>=20.0 in /Users/ghudeihed/anaconda3/envs/XCS330/lib/python3.9/site-packages (from transformers) (23.0)\n",
      "Requirement already satisfied: pyyaml>=5.1 in /Users/ghudeihed/anaconda3/envs/XCS330/lib/python3.9/site-packages (from transformers) (6.0.1)\n",
      "Requirement already satisfied: regex!=2019.12.17 in /Users/ghudeihed/anaconda3/envs/XCS330/lib/python3.9/site-packages (from transformers) (2023.8.8)\n",
      "Requirement already satisfied: requests in /Users/ghudeihed/anaconda3/envs/XCS330/lib/python3.9/site-packages (from transformers) (2.29.0)\n",
      "Requirement already satisfied: tokenizers!=0.11.3,<0.14,>=0.11.1 in /Users/ghudeihed/anaconda3/envs/XCS330/lib/python3.9/site-packages (from transformers) (0.13.3)\n",
      "Requirement already satisfied: safetensors>=0.3.1 in /Users/ghudeihed/anaconda3/envs/XCS330/lib/python3.9/site-packages (from transformers) (0.3.2)\n",
      "Requirement already satisfied: tqdm>=4.27 in /Users/ghudeihed/anaconda3/envs/XCS330/lib/python3.9/site-packages (from transformers) (4.66.1)\n",
      "Requirement already satisfied: fsspec in /Users/ghudeihed/anaconda3/envs/XCS330/lib/python3.9/site-packages (from huggingface-hub<1.0,>=0.14.1->transformers) (2023.6.0)\n",
      "Requirement already satisfied: typing-extensions>=3.7.4.3 in /Users/ghudeihed/anaconda3/envs/XCS330/lib/python3.9/site-packages (from huggingface-hub<1.0,>=0.14.1->transformers) (4.7.1)\n",
      "Requirement already satisfied: charset-normalizer<4,>=2 in /Users/ghudeihed/anaconda3/envs/XCS330/lib/python3.9/site-packages (from requests->transformers) (2.0.4)\n",
      "Requirement already satisfied: idna<4,>=2.5 in /Users/ghudeihed/anaconda3/envs/XCS330/lib/python3.9/site-packages (from requests->transformers) (3.4)\n",
      "Requirement already satisfied: urllib3<1.27,>=1.21.1 in /Users/ghudeihed/anaconda3/envs/XCS330/lib/python3.9/site-packages (from requests->transformers) (1.26.16)\n",
      "Requirement already satisfied: certifi>=2017.4.17 in /Users/ghudeihed/anaconda3/envs/XCS330/lib/python3.9/site-packages (from requests->transformers) (2023.7.22)\n"
     ]
    }
   ],
   "source": [
    "!pip install transformers"
   ]
  },
  {
   "cell_type": "markdown",
   "metadata": {},
   "source": [
    "# Import Libraries:"
   ]
  },
  {
   "cell_type": "code",
   "execution_count": 3,
   "metadata": {},
   "outputs": [],
   "source": [
    "import torch\n",
    "from torch import nn\n",
    "from torch.utils.data import TensorDataset, DataLoader, RandomSampler, SequentialSampler\n",
    "import transformers\n",
    "from transformers import AutoModel, BertTokenizerFast, AdamW\n",
    "import numpy as np\n",
    "import pandas as pd\n",
    "from sklearn.metrics import classification_report\n",
    "from sklearn.model_selection import train_test_split\n",
    "from sklearn.utils.class_weight import compute_class_weight"
   ]
  },
  {
   "cell_type": "markdown",
   "metadata": {},
   "source": [
    "# Load Dataset"
   ]
  },
  {
   "cell_type": "code",
   "execution_count": 7,
   "metadata": {},
   "outputs": [
    {
     "data": {
      "text/html": [
       "<div>\n",
       "<style scoped>\n",
       "    .dataframe tbody tr th:only-of-type {\n",
       "        vertical-align: middle;\n",
       "    }\n",
       "\n",
       "    .dataframe tbody tr th {\n",
       "        vertical-align: top;\n",
       "    }\n",
       "\n",
       "    .dataframe thead th {\n",
       "        text-align: right;\n",
       "    }\n",
       "</style>\n",
       "<table border=\"1\" class=\"dataframe\">\n",
       "  <thead>\n",
       "    <tr style=\"text-align: right;\">\n",
       "      <th></th>\n",
       "      <th>label</th>\n",
       "      <th>text</th>\n",
       "    </tr>\n",
       "  </thead>\n",
       "  <tbody>\n",
       "    <tr>\n",
       "      <th>0</th>\n",
       "      <td>0</td>\n",
       "      <td>Go until jurong point, crazy.. Available only ...</td>\n",
       "    </tr>\n",
       "    <tr>\n",
       "      <th>1</th>\n",
       "      <td>0</td>\n",
       "      <td>Ok lar... Joking wif u oni...</td>\n",
       "    </tr>\n",
       "    <tr>\n",
       "      <th>2</th>\n",
       "      <td>1</td>\n",
       "      <td>Free entry in 2 a wkly comp to win FA Cup fina...</td>\n",
       "    </tr>\n",
       "    <tr>\n",
       "      <th>3</th>\n",
       "      <td>0</td>\n",
       "      <td>U dun say so early hor... U c already then say...</td>\n",
       "    </tr>\n",
       "    <tr>\n",
       "      <th>4</th>\n",
       "      <td>0</td>\n",
       "      <td>Nah I don't think he goes to usf, he lives aro...</td>\n",
       "    </tr>\n",
       "  </tbody>\n",
       "</table>\n",
       "</div>"
      ],
      "text/plain": [
       "   label                                               text\n",
       "0      0  Go until jurong point, crazy.. Available only ...\n",
       "1      0                      Ok lar... Joking wif u oni...\n",
       "2      1  Free entry in 2 a wkly comp to win FA Cup fina...\n",
       "3      0  U dun say so early hor... U c already then say...\n",
       "4      0  Nah I don't think he goes to usf, he lives aro..."
      ]
     },
     "execution_count": 7,
     "metadata": {},
     "output_type": "execute_result"
    }
   ],
   "source": [
    "# Set Device\n",
    "device = torch.device(\"cuda\" if torch.cuda.is_available() else \"cpu\")\n",
    "\n",
    "# Load data and view the first couple of rows \n",
    "df = pd.read_csv(\"./dataset/spamdata_v2.csv\")\n",
    "df.head()"
   ]
  },
  {
   "cell_type": "code",
   "execution_count": 8,
   "metadata": {},
   "outputs": [
    {
     "data": {
      "text/plain": [
       "0    0.865937\n",
       "1    0.134063\n",
       "Name: label, dtype: float64"
      ]
     },
     "execution_count": 8,
     "metadata": {},
     "output_type": "execute_result"
    }
   ],
   "source": [
    "# Check class distribution of the labels\n",
    "df[\"label\"].value_counts(normalize=True)"
   ]
  },
  {
   "cell_type": "markdown",
   "metadata": {},
   "source": [
    "# Split dataset into train, validation, and test sets "
   ]
  },
  {
   "cell_type": "code",
   "execution_count": 9,
   "metadata": {},
   "outputs": [],
   "source": [
    "train_text, test_val_text, train_labels, test_val_labels = train_test_split(df[\"text\"], df[\"label\"], \n",
    "                                                                    random_state=2018, \n",
    "                                                                    test_size=0.3, \n",
    "                                                                    stratify=df[\"label\"])\n",
    "\n",
    "# split test_val_text and test_val_labels\n",
    "test_text, val_text, test_labels, val_labels = train_test_split(test_val_text, test_val_labels,\n",
    "                                                                random_state=2018,\n",
    "                                                                test_size=0.5,\n",
    "                                                                stratify=test_val_labels\n",
    "                                                                )"
   ]
  },
  {
   "cell_type": "markdown",
   "metadata": {},
   "source": [
    "# Import BERT Model and Tokenizer "
   ]
  },
  {
   "cell_type": "code",
   "execution_count": 10,
   "metadata": {},
   "outputs": [],
   "source": [
    "# Load Pre-trained BERT model and tokenizer\n",
    "bert = AutoModel.from_pretrained('bert-base-uncased')\n",
    "tokenizer = BertTokenizerFast.from_pretrained('bert-base-uncased')\n",
    "\n",
    "# Tokenization and Encoding\n",
    "def tokenize_and_encode(text_data, max_seq_len):\n",
    "    tokens = tokenizer.batch_encode_plus(\n",
    "        text_data.tolist(),\n",
    "        max_length=max_seq_len,\n",
    "        pad_to_max_length=True,\n",
    "        truncation=True,\n",
    "        return_token_type_ids=False\n",
    "    )\n",
    "    return torch.tensor(tokens['input_ids']), torch.tensor(tokens['attention_mask'])"
   ]
  },
  {
   "cell_type": "code",
   "execution_count": 11,
   "metadata": {},
   "outputs": [
    {
     "name": "stdout",
     "output_type": "stream",
     "text": [
      "['this', 'bert', 'model', 'tutor', '##ial', ',', 'is', 'a', 'fantastic', 'way', 'to', 'learn', 'we', 'will', 'fine', '-', 'tune', 'bert', 'model']\n",
      "{'input_ids': [[101, 2023, 14324, 2944, 14924, 4818, 1010, 2003, 1037, 10392, 2126, 2000, 4553, 102], [101, 2057, 2097, 2986, 1011, 8694, 14324, 2944, 102, 0, 0, 0, 0, 0]], 'attention_mask': [[1, 1, 1, 1, 1, 1, 1, 1, 1, 1, 1, 1, 1, 1], [1, 1, 1, 1, 1, 1, 1, 1, 1, 0, 0, 0, 0, 0]]}\n"
     ]
    }
   ],
   "source": [
    "# Sample data \n",
    "text = [\"This bert model tutorial, is a fantastic way to learn\", \"We will fine-tune bert model\"]\n",
    "\n",
    "sent_tokens = tokenizer.tokenize(text)\n",
    "\n",
    "print(sent_tokens)\n",
    "\n",
    "# Encode text\n",
    "sent_id = tokenizer.batch_encode_plus(text, padding=True, return_token_type_ids=False)\n",
    "\n",
    "# Print token ids\n",
    "print(sent_id)"
   ]
  },
  {
   "cell_type": "markdown",
   "metadata": {},
   "source": [
    "# Encode Text Sequences "
   ]
  },
  {
   "cell_type": "code",
   "execution_count": 12,
   "metadata": {},
   "outputs": [
    {
     "data": {
      "text/plain": [
       "<Axes: >"
      ]
     },
     "execution_count": 12,
     "metadata": {},
     "output_type": "execute_result"
    },
    {
     "data": {
      "image/png": "[encoded data removed]",
      "text/plain": [
       "<Figure size 640x480 with 1 Axes>"
      ]
     },
     "metadata": {},
     "output_type": "display_data"
    }
   ],
   "source": [
    "# get length of all the messages in the training set \n",
    "seq_len = [len(txt.split()) for txt in train_text]\n",
    "\n",
    "pd.Series(seq_len).hist(bins= 30)\n"
   ]
  },
  {
   "cell_type": "code",
   "execution_count": 13,
   "metadata": {},
   "outputs": [],
   "source": [
    "max_seq_len = 25"
   ]
  },
  {
   "cell_type": "code",
   "execution_count": 14,
   "metadata": {},
   "outputs": [
    {
     "name": "stderr",
     "output_type": "stream",
     "text": [
      "/Users/ghudeihed/anaconda3/envs/XCS330/lib/python3.9/site-packages/transformers/tokenization_utils_base.py:2393: FutureWarning: The `pad_to_max_length` argument is deprecated and will be removed in a future version, use `padding=True` or `padding='longest'` to pad to the longest sequence in the batch, or use `padding='max_length'` to pad to a max length. In this case, you can give a specific length with `max_length` (e.g. `max_length=45`) or leave max_length to None to pad to the maximal input size of the model (e.g. 512 for Bert).\n",
      "  warnings.warn(\n"
     ]
    }
   ],
   "source": [
    "# Assume train_text, val_text, test_text, train_labels, val_labels, test_labels are correctly initialized\n",
    "train_seq, train_mask = tokenize_and_encode(train_text, max_seq_len)\n",
    "val_seq, val_mask = tokenize_and_encode(val_text, max_seq_len)\n",
    "test_seq, test_mask = tokenize_and_encode(test_text, max_seq_len)\n",
    "\n",
    "# Convert labels to tensors\n",
    "train_y = torch.tensor(train_labels.tolist())\n",
    "val_y = torch.tensor(val_labels.tolist())\n",
    "test_y = torch.tensor(test_labels.tolist())"
   ]
  },
  {
   "cell_type": "markdown",
   "metadata": {},
   "source": [
    "# Create Dataloaders "
   ]
  },
  {
   "cell_type": "code",
   "execution_count": 15,
   "metadata": {},
   "outputs": [],
   "source": [
    "# Prepare DataLoader\n",
    "batch_size = 32\n",
    "train_data = TensorDataset(train_seq, train_mask, train_y)\n",
    "train_sampler = RandomSampler(train_data)\n",
    "train_dataloader = DataLoader(train_data, sampler=train_sampler, batch_size=batch_size)\n",
    "\n",
    "val_data = TensorDataset(val_seq, val_mask, val_y)\n",
    "val_sampler = SequentialSampler(val_data)\n",
    "val_dataloader = DataLoader(val_data, sampler=val_sampler, batch_size=batch_size)"
   ]
  },
  {
   "cell_type": "markdown",
   "metadata": {},
   "source": [
    "# Freeze BERT Parameters "
   ]
  },
  {
   "cell_type": "code",
   "execution_count": 16,
   "metadata": {},
   "outputs": [],
   "source": [
    "# freeze all the parameters\n",
    "for param in bert.parameters():\n",
    "    param.requires_grad = False"
   ]
  },
  {
   "cell_type": "markdown",
   "metadata": {},
   "source": [
    "# Define Model Architecture \n",
    "\n",
    "Adding two fuly connected layers on top of BERT model "
   ]
  },
  {
   "cell_type": "code",
   "execution_count": 17,
   "metadata": {},
   "outputs": [],
   "source": [
    "# Define Custom Model Architecture\n",
    "class BERT_Arch(nn.Module):\n",
    "\n",
    "    def __init__(self, bert):\n",
    "        super(BERT_Arch, self).__init__()\n",
    "        self.bert = bert \n",
    "        self.dropout = nn.Dropout(0.1)\n",
    "        self.relu = nn.ReLU()\n",
    "        self.fc1 = nn.Linear(768,512)\n",
    "        self.fc2 = nn.Linear(512,2)\n",
    "        self.softmax = nn.LogSoftmax(dim=1)\n",
    "\n",
    "    # Define the forward pass\n",
    "    def forward(self, sent_id, mask):\n",
    "        # Pass the inputs to the model\n",
    "        outputs = self.bert(sent_id, attention_mask=mask)\n",
    "        cls_hs = outputs.last_hidden_state[:, 0, :]  # Take the [CLS] embedding from the last layer\n",
    "        x = self.fc1(cls_hs)\n",
    "        x = self.relu(x)\n",
    "        x = self.dropout(x)\n",
    "        x = self.fc2(x)\n",
    "        x = self.softmax(x)\n",
    "        return x"
   ]
  },
  {
   "cell_type": "code",
   "execution_count": 18,
   "metadata": {},
   "outputs": [
    {
     "name": "stderr",
     "output_type": "stream",
     "text": [
      "/Users/ghudeihed/anaconda3/envs/XCS330/lib/python3.9/site-packages/transformers/optimization.py:411: FutureWarning: This implementation of AdamW is deprecated and will be removed in a future version. Use the PyTorch implementation torch.optim.AdamW instead, or set `no_deprecation_warning=True` to disable this warning\n",
      "  warnings.warn(\n"
     ]
    }
   ],
   "source": [
    "# Instantiate Model and Move to GPU if available\n",
    "# pass the pre-trained BERT to our define architecture\n",
    "model = BERT_Arch(bert)\n",
    "\n",
    "# push the model to GPU\n",
    "model = model.to(device)\n",
    "\n",
    "# Define Optimizer\n",
    "optimizer = AdamW(model.parameters(), lr=1e-3)"
   ]
  },
  {
   "cell_type": "markdown",
   "metadata": {},
   "source": [
    "# Find Class Weights "
   ]
  },
  {
   "cell_type": "code",
   "execution_count": 19,
   "metadata": {},
   "outputs": [
    {
     "name": "stdout",
     "output_type": "stream",
     "text": [
      "[0.57743559 3.72848948]\n"
     ]
    }
   ],
   "source": [
    "# Compute Class Weights\n",
    "class_wts = compute_class_weight('balanced', classes=np.unique(train_labels), y=train_labels)\n",
    "\n",
    "# convert class weights to tensor\n",
    "weights = torch.tensor(class_wts, dtype=torch.float).to(device)\n",
    "\n",
    "# Define Loss Function\n",
    "cross_entropy = nn.NLLLoss(weight=weights)\n",
    "\n",
    "# Set Number of Epochs\n",
    "epochs = 10 \n",
    "print(class_wts)"
   ]
  },
  {
   "cell_type": "markdown",
   "metadata": {},
   "source": [
    "# Fine-Tune BERT"
   ]
  },
  {
   "cell_type": "code",
   "execution_count": 20,
   "metadata": {},
   "outputs": [],
   "source": [
    "def train(model, train_dataloader, optimizer, device):\n",
    "    model.train()  # Set the model to training mode\n",
    "\n",
    "    total_loss, total_accuracy = 0, 0  # Initialize counters for total loss and accuracy\n",
    "\n",
    "    total_preds = []  # Empty list to save model predictions\n",
    "\n",
    "    for step, batch in enumerate(train_dataloader):\n",
    "        if step % 50 == 0 and not step == 0:\n",
    "            print(f'  Batch {step:>5,}  of  {len(train_dataloader):>5,}.')\n",
    "\n",
    "        batch = [r.to(device) for r in batch]  # Move the batch to the device (GPU/CPU)\n",
    "\n",
    "        sent_id, mask, labels = batch  # Unpack the batch\n",
    "        \n",
    "        # # Check the data type and shape of the inputs\n",
    "        # print(f\"sent_id type: {type(sent_id)}, shape: {sent_id.shape}\")\n",
    "        # print(f\"mask type: {type(mask)}, shape: {mask.shape}\")\n",
    "        # print(f\"labels type: {type(labels)}, shape: {labels.shape}\")\n",
    "\n",
    "        model.zero_grad()  # Clear previously calculated gradients\n",
    "\n",
    "        preds = model(sent_id, mask)  # Get model predictions for the current batch\n",
    "\n",
    "        loss = cross_entropy(preds, labels)  # Compute the loss between actual and predicted values\n",
    "\n",
    "        total_loss = total_loss + loss.item()  # Accumulate the total loss\n",
    "\n",
    "        loss.backward()  # Perform a backward pass to calculate the gradients\n",
    "\n",
    "        torch.nn.utils.clip_grad_norm_(model.parameters(), 1.0)  # Clip the gradients to 1.0 to prevent exploding gradients\n",
    "\n",
    "        optimizer.step()  # Update the model parameters\n",
    "\n",
    "        preds = preds.detach().cpu().numpy()  # Detach predictions from the GPU and convert to numpy array\n",
    "\n",
    "        total_preds.append(preds)  # Append the model predictions\n",
    "\n",
    "    avg_loss = total_loss / len(train_dataloader)  # Compute the training loss of the epoch\n",
    "\n",
    "    total_preds = np.concatenate(total_preds, axis=0)  # Reshape the predictions\n",
    "\n",
    "    return avg_loss, total_preds  # Return the average loss and predictions\n",
    "\n",
    "# # Example usage:\n",
    "# # Assume optimizer and device are already defined\n",
    "# # model, train_dataloader are from previous snippet\n",
    "# train_loss, train_preds = train(model, train_dataloader, optimizer, device)\n"
   ]
  },
  {
   "cell_type": "code",
   "execution_count": 21,
   "metadata": {},
   "outputs": [],
   "source": [
    "def validate(model, val_dataloader, device):\n",
    "    model.eval()  # Set the model to evaluation mode\n",
    "\n",
    "    total_loss, total_accuracy = 0, 0  # Initialize counters for total loss and accuracy\n",
    "\n",
    "    total_preds = []  # Empty list to save model predictions\n",
    "\n",
    "    with torch.no_grad():  # Disable gradient computation\n",
    "        for step, batch in enumerate(val_dataloader):\n",
    "            if step % 50 == 0 and not step == 0:\n",
    "                print(f'  Batch {step:>5,}  of  {len(val_dataloader):>5,}.')\n",
    "\n",
    "            batch = [r.to(device) for r in batch]  # Move the batch to the device (GPU/CPU)\n",
    "\n",
    "            sent_id, mask, labels = batch  # Unpack the batch\n",
    "\n",
    "            preds = model(sent_id, mask)  # Get model predictions for the current batch\n",
    "\n",
    "            loss = cross_entropy(preds, labels)  # Compute the loss between actual and predicted values\n",
    "\n",
    "            total_loss = total_loss + loss.item()  # Accumulate the total loss\n",
    "\n",
    "            preds = preds.detach().cpu().numpy()  # Detach predictions from the GPU and convert to numpy array\n",
    "\n",
    "            total_preds.append(preds)  # Append the model predictions\n",
    "\n",
    "    avg_loss = total_loss / len(val_dataloader)  # Compute the validation loss of the epoch\n",
    "\n",
    "    total_preds = np.concatenate(total_preds, axis=0)  # Reshape the predictions\n",
    "\n",
    "    return avg_loss, total_preds  # Return the average loss and predictions\n",
    "\n",
    "# # Example usage:\n",
    "# # model, val_dataloader are from previous snippet\n",
    "# val_loss, val_preds = validate(model, val_dataloader, device)"
   ]
  },
  {
   "cell_type": "markdown",
   "metadata": {},
   "source": [
    "# Start Model Training "
   ]
  },
  {
   "cell_type": "code",
   "execution_count": 38,
   "metadata": {},
   "outputs": [
    {
     "name": "stdout",
     "output_type": "stream",
     "text": [
      "\n",
      " Epoch 1/10\n",
      "  Batch    50  of    122.\n",
      "  Batch   100  of    122.\n",
      "Validation loss improved. Model saved to best_model_epoch1.pth\n",
      "Training Loss: 0.211\n",
      "Validation Loss: 0.153\n",
      "\n",
      " Epoch 2/10\n",
      "  Batch    50  of    122.\n",
      "  Batch   100  of    122.\n",
      "Validation loss improved. Model saved to best_model_epoch2.pth\n",
      "Training Loss: 0.142\n",
      "Validation Loss: 0.130\n",
      "\n",
      " Epoch 3/10\n",
      "  Batch    50  of    122.\n",
      "  Batch   100  of    122.\n",
      "Validation loss improved. Model saved to best_model_epoch3.pth\n",
      "Training Loss: 0.124\n",
      "Validation Loss: 0.120\n",
      "\n",
      " Epoch 4/10\n",
      "  Batch    50  of    122.\n",
      "  Batch   100  of    122.\n",
      "Training Loss: 0.091\n",
      "Validation Loss: 0.120\n",
      "\n",
      " Epoch 5/10\n",
      "  Batch    50  of    122.\n",
      "  Batch   100  of    122.\n",
      "Training Loss: 0.102\n",
      "Validation Loss: 0.140\n",
      "\n",
      " Epoch 6/10\n",
      "  Batch    50  of    122.\n",
      "  Batch   100  of    122.\n",
      "Training Loss: 0.083\n",
      "Validation Loss: 0.121\n",
      "\n",
      " Epoch 7/10\n",
      "  Batch    50  of    122.\n",
      "  Batch   100  of    122.\n",
      "Training Loss: 0.105\n",
      "Validation Loss: 0.135\n",
      "\n",
      " Epoch 8/10\n",
      "  Batch    50  of    122.\n",
      "  Batch   100  of    122.\n",
      "Training Loss: 0.083\n",
      "Validation Loss: 0.278\n",
      "\n",
      " Epoch 9/10\n",
      "  Batch    50  of    122.\n",
      "  Batch   100  of    122.\n",
      "Training Loss: 0.083\n",
      "Validation Loss: 0.121\n",
      "\n",
      " Epoch 10/10\n",
      "  Batch    50  of    122.\n",
      "  Batch   100  of    122.\n",
      "Validation loss improved. Model saved to best_model_epoch10.pth\n",
      "Training Loss: 0.086\n",
      "Validation Loss: 0.084\n"
     ]
    }
   ],
   "source": [
    "def save_model(model, path):\n",
    "    \"\"\"Save the model to the specified path.\"\"\"\n",
    "    torch.save(model.state_dict(), path)\n",
    "\n",
    "def train_and_validate(model, train_dataloader, val_dataloader, optimizer, device, epochs):\n",
    "    best_val_loss = float('inf')  # Initialize best validation loss as infinity\n",
    "\n",
    "    for epoch in range(epochs):\n",
    "        print(f'\\n Epoch {epoch + 1}/{epochs}')\n",
    "        train_loss, _ = train(model, train_dataloader, optimizer, device)  # Train the model\n",
    "        val_loss, _ = validate(model, val_dataloader, device)  # Validate the model\n",
    "\n",
    "        # If the validation loss is the best seen so far, save the model\n",
    "        if val_loss < best_val_loss:\n",
    "            best_val_loss = val_loss\n",
    "            save_model(model, f'./models/best_model.pth')\n",
    "            print(f'Validation loss improved. Model saved to best_model_epoch{epoch + 1}.pth')\n",
    "\n",
    "        print(f'Training Loss: {train_loss:.3f}')\n",
    "        print(f'Validation Loss: {val_loss:.3f}')\n",
    "\n",
    "# Example usage:\n",
    "# model, train_dataloader, val_dataloader, optimizer, device, and epochs are from previous snippets\n",
    "train_and_validate(model, train_dataloader, val_dataloader, optimizer, device, epochs)\n"
   ]
  },
  {
   "cell_type": "markdown",
   "metadata": {},
   "source": [
    "# Load Saved Model"
   ]
  },
  {
   "cell_type": "code",
   "execution_count": 22,
   "metadata": {},
   "outputs": [
    {
     "data": {
      "text/plain": [
       "BERT_Arch(\n",
       "  (bert): BertModel(\n",
       "    (embeddings): BertEmbeddings(\n",
       "      (word_embeddings): Embedding(30522, 768, padding_idx=0)\n",
       "      (position_embeddings): Embedding(512, 768)\n",
       "      (token_type_embeddings): Embedding(2, 768)\n",
       "      (LayerNorm): LayerNorm((768,), eps=1e-12, elementwise_affine=True)\n",
       "      (dropout): Dropout(p=0.1, inplace=False)\n",
       "    )\n",
       "    (encoder): BertEncoder(\n",
       "      (layer): ModuleList(\n",
       "        (0-11): 12 x BertLayer(\n",
       "          (attention): BertAttention(\n",
       "            (self): BertSelfAttention(\n",
       "              (query): Linear(in_features=768, out_features=768, bias=True)\n",
       "              (key): Linear(in_features=768, out_features=768, bias=True)\n",
       "              (value): Linear(in_features=768, out_features=768, bias=True)\n",
       "              (dropout): Dropout(p=0.1, inplace=False)\n",
       "            )\n",
       "            (output): BertSelfOutput(\n",
       "              (dense): Linear(in_features=768, out_features=768, bias=True)\n",
       "              (LayerNorm): LayerNorm((768,), eps=1e-12, elementwise_affine=True)\n",
       "              (dropout): Dropout(p=0.1, inplace=False)\n",
       "            )\n",
       "          )\n",
       "          (intermediate): BertIntermediate(\n",
       "            (dense): Linear(in_features=768, out_features=3072, bias=True)\n",
       "            (intermediate_act_fn): GELUActivation()\n",
       "          )\n",
       "          (output): BertOutput(\n",
       "            (dense): Linear(in_features=3072, out_features=768, bias=True)\n",
       "            (LayerNorm): LayerNorm((768,), eps=1e-12, elementwise_affine=True)\n",
       "            (dropout): Dropout(p=0.1, inplace=False)\n",
       "          )\n",
       "        )\n",
       "      )\n",
       "    )\n",
       "    (pooler): BertPooler(\n",
       "      (dense): Linear(in_features=768, out_features=768, bias=True)\n",
       "      (activation): Tanh()\n",
       "    )\n",
       "  )\n",
       "  (dropout): Dropout(p=0.1, inplace=False)\n",
       "  (relu): ReLU()\n",
       "  (fc1): Linear(in_features=768, out_features=512, bias=True)\n",
       "  (fc2): Linear(in_features=512, out_features=2, bias=True)\n",
       "  (softmax): LogSoftmax(dim=1)\n",
       ")"
      ]
     },
     "execution_count": 22,
     "metadata": {},
     "output_type": "execute_result"
    }
   ],
   "source": [
    "# Init the model\n",
    "model = BERT_Arch(bert)\n",
    "\n",
    "# Load saved wrights\n",
    "model.load_state_dict(torch.load(\"./models/best_model.pth\"))\n",
    "\n",
    "model = model.to(device)  # Move the model to GPU if available\n",
    "\n",
    "model.eval()  # Set the model to evaluation mode"
   ]
  },
  {
   "cell_type": "markdown",
   "metadata": {},
   "source": [
    "# Get Predictions for Test Data"
   ]
  },
  {
   "cell_type": "code",
   "execution_count": 40,
   "metadata": {},
   "outputs": [],
   "source": [
    "# get predictions for test data\n",
    "with torch.no_grad():\n",
    "  preds = model(test_seq.to(device), test_mask.to(device))\n",
    "  preds = preds.detach().cpu().numpy()"
   ]
  },
  {
   "cell_type": "code",
   "execution_count": 41,
   "metadata": {},
   "outputs": [
    {
     "name": "stdout",
     "output_type": "stream",
     "text": [
      "              precision    recall  f1-score   support\n",
      "\n",
      "           0       0.99      0.99      0.99       724\n",
      "           1       0.92      0.96      0.94       112\n",
      "\n",
      "    accuracy                           0.98       836\n",
      "   macro avg       0.96      0.98      0.97       836\n",
      "weighted avg       0.98      0.98      0.98       836\n",
      "\n"
     ]
    }
   ],
   "source": [
    "# model's performance, \n",
    "# since the last layer on our model was a softmax\n",
    "# We can use argmax here \n",
    "preds = np.argmax(preds, axis = 1)\n",
    "print(classification_report(test_y, preds))"
   ]
  },
  {
   "cell_type": "code",
   "execution_count": 42,
   "metadata": {},
   "outputs": [
    {
     "data": {
      "text/html": [
       "<div>\n",
       "<style scoped>\n",
       "    .dataframe tbody tr th:only-of-type {\n",
       "        vertical-align: middle;\n",
       "    }\n",
       "\n",
       "    .dataframe tbody tr th {\n",
       "        vertical-align: top;\n",
       "    }\n",
       "\n",
       "    .dataframe thead th {\n",
       "        text-align: right;\n",
       "    }\n",
       "</style>\n",
       "<table border=\"1\" class=\"dataframe\">\n",
       "  <thead>\n",
       "    <tr style=\"text-align: right;\">\n",
       "      <th>col_0</th>\n",
       "      <th>0</th>\n",
       "      <th>1</th>\n",
       "    </tr>\n",
       "    <tr>\n",
       "      <th>row_0</th>\n",
       "      <th></th>\n",
       "      <th></th>\n",
       "    </tr>\n",
       "  </thead>\n",
       "  <tbody>\n",
       "    <tr>\n",
       "      <th>0</th>\n",
       "      <td>715</td>\n",
       "      <td>9</td>\n",
       "    </tr>\n",
       "    <tr>\n",
       "      <th>1</th>\n",
       "      <td>4</td>\n",
       "      <td>108</td>\n",
       "    </tr>\n",
       "  </tbody>\n",
       "</table>\n",
       "</div>"
      ],
      "text/plain": [
       "col_0    0    1\n",
       "row_0          \n",
       "0      715    9\n",
       "1        4  108"
      ]
     },
     "execution_count": 42,
     "metadata": {},
     "output_type": "execute_result"
    }
   ],
   "source": [
    "# confusion matrix\n",
    "pd.crosstab(test_y, preds)"
   ]
  },
  {
   "cell_type": "code",
   "execution_count": 126,
   "metadata": {},
   "outputs": [],
   "source": [
    "# Load the tokenizer\n",
    "tokenizer = BertTokenizerFast.from_pretrained('bert-base-uncased')\n",
    "\n",
    "# Assume input_text is your text data\n",
    "input_text = [\"your device is infected with virous\", \"How are you doing my friend?\"]\n",
    "\n",
    "# Tokenize input text\n",
    "tokens = tokenizer.batch_encode_plus(\n",
    "    input_text,\n",
    "    max_length=25,\n",
    "    pad_to_max_length=True,\n",
    "    truncation=True,\n",
    "    return_tensors='pt'\n",
    ")\n",
    "\n",
    "# Get tensor data\n",
    "input_ids = tokens['input_ids'].to(device)\n",
    "attention_mask = tokens['attention_mask'].to(device)"
   ]
  },
  {
   "cell_type": "code",
   "execution_count": 127,
   "metadata": {},
   "outputs": [],
   "source": [
    "# Disable gradient calculation as we are in inference mode\n",
    "with torch.no_grad():\n",
    "    # Forward pass, get predictions\n",
    "    outputs = model(input_ids, attention_mask)\n",
    "\n",
    "# Get predicted class indices\n",
    "_, predicted_indices = torch.max(outputs, dim=1)\n",
    "\n",
    "# Convert predicted indices to list\n",
    "predicted_indices = predicted_indices.cpu().tolist()"
   ]
  },
  {
   "cell_type": "code",
   "execution_count": 128,
   "metadata": {},
   "outputs": [
    {
     "data": {
      "text/plain": [
       "[1, 0]"
      ]
     },
     "execution_count": 128,
     "metadata": {},
     "output_type": "execute_result"
    }
   ],
   "source": [
    "predicted_indices"
   ]
  },
  {
   "cell_type": "code",
   "execution_count": null,
   "metadata": {},
   "outputs": [],
   "source": []
  }
 ],
 "metadata": {
  "kernelspec": {
   "display_name": "XCS330",
   "language": "python",
   "name": "python3"
  },
  "language_info": {
   "codemirror_mode": {
    "name": "ipython",
    "version": 3
   },
   "file_extension": ".py",
   "mimetype": "text/x-python",
   "name": "python",
   "nbconvert_exporter": "python",
   "pygments_lexer": "ipython3",
   "version": "3.9.17"
  },
  "orig_nbformat": 4
 },
 "nbformat": 4,
 "nbformat_minor": 2
}
